{
 "cells": [
  {
   "cell_type": "markdown",
   "metadata": {},
   "source": [
    "## Ejercicio 1: Transformar cadenas\n",
    "El texto con el que trabajarás es el siguiente:"
   ]
  },
  {
   "cell_type": "code",
   "execution_count": 1,
   "metadata": {},
   "outputs": [],
   "source": [
    "text = \"\"\"Interesting facts about the Moon. The Moon is Earth's only satellite. There are several interesting facts about the Moon and how it affects life here on Earth. On average, the Moon moves 4cm away from the Earth every year. This yearly drift is not significant enough to cause immediate effects on Earth. The highest daylight temperature of the Moon is 127 C.\"\"\""
   ]
  },
  {
   "cell_type": "markdown",
   "metadata": {},
   "source": [
    "Primero, divide el texto en cada oración para trabajar con su contenido:"
   ]
  },
  {
   "cell_type": "code",
   "execution_count": 2,
   "metadata": {},
   "outputs": [
    {
     "data": {
      "text/plain": [
       "['Interesting facts about the Moon',\n",
       " \"The Moon is Earth's only satellite\",\n",
       " 'There are several interesting facts about the Moon and how it affects life here on Earth',\n",
       " 'On average, the Moon moves 4cm away from the Earth every year',\n",
       " 'This yearly drift is not significant enough to cause immediate effects on Earth',\n",
       " 'The highest daylight temperature of the Moon is 127 C.']"
      ]
     },
     "execution_count": 2,
     "metadata": {},
     "output_type": "execute_result"
    }
   ],
   "source": [
    "tokens = text.split('. ')\n",
    "tokens"
   ]
  },
  {
   "cell_type": "code",
   "execution_count": 18,
   "metadata": {},
   "outputs": [],
   "source": [
    "# Define las palabras pista: average, temperature y distance suenan bien\n",
    "keywords = ['average', 'temperature', 'distance']"
   ]
  },
  {
   "cell_type": "markdown",
   "metadata": {},
   "source": [
    "Cree un bucle para imprimir solo datos sobre la Luna que estén relacionados con las palabras clave definidas anteriormente:"
   ]
  },
  {
   "cell_type": "code",
   "execution_count": 20,
   "metadata": {},
   "outputs": [
    {
     "name": "stdout",
     "output_type": "stream",
     "text": [
      "\n",
      "On average, the Moon moves 4cm away from the Earth every year\n",
      "The highest daylight temperature of the Moon is 127 C.\n"
     ]
    }
   ],
   "source": [
    "for text in tokens:\n",
    "    for keyword in keywords:\n",
    "        if keyword in text:\n",
    "            print(text)\n",
    "            break"
   ]
  },
  {
   "cell_type": "markdown",
   "metadata": {},
   "source": [
    "Finalmente, actualiza el bucle(ciclo) para cambiar C a Celsius:"
   ]
  },
  {
   "cell_type": "code",
   "execution_count": 23,
   "metadata": {},
   "outputs": [
    {
     "name": "stdout",
     "output_type": "stream",
     "text": [
      "\n",
      "On average, the Moon moves 4cm away from the Earth every year\n",
      "The highest daylight temperature of the Moon is 127 Celsius.\n"
     ]
    }
   ],
   "source": [
    "for text in tokens:\n",
    "    for keyword in keywords:\n",
    "        if keyword in text:\n",
    "            print(text.replace('C','Celsius'))\n",
    "            break"
   ]
  },
  {
   "cell_type": "markdown",
   "metadata": {},
   "source": [
    "## Ejercicio 2: Formateando Cadenas\n",
    "Datos con los que vas a trabajar"
   ]
  },
  {
   "cell_type": "code",
   "execution_count": 61,
   "metadata": {},
   "outputs": [],
   "source": [
    "name = \"Moon\"\n",
    "gravity = 0.00162 # in kms\n",
    "planet = \"Earth\""
   ]
  },
  {
   "cell_type": "markdown",
   "metadata": {},
   "source": [
    "Primero, crea un título para el texto. Debido a que este texto trata sobre la gravedad en la Tierra y la Luna, úsalo para crear un título significativo. Utiliza las variables en lugar de escribir."
   ]
  },
  {
   "cell_type": "code",
   "execution_count": 62,
   "metadata": {},
   "outputs": [],
   "source": [
    "titulo = f'Datos sobre la gravedad en {name}'"
   ]
  },
  {
   "cell_type": "markdown",
   "metadata": {},
   "source": [
    "Ahora crea una plantilla de cadena multilínea para contener el resto de la información. En lugar de usar kilómetros, debes convertir la distancia a metros multiplicando por 1,000."
   ]
  },
  {
   "cell_type": "code",
   "execution_count": 63,
   "metadata": {},
   "outputs": [],
   "source": [
    "datos = f\"\"\"{'-'*80}\\nNombre del planeta = {planet}\\nGravedad en {name}: {gravity * 1000} m/s²\"\"\""
   ]
  },
  {
   "cell_type": "code",
   "execution_count": 64,
   "metadata": {},
   "outputs": [
    {
     "name": "stdout",
     "output_type": "stream",
     "text": [
      "Datos Sobre La Gravedad En Moon \n",
      "--------------------------------------------------------------------------------\n",
      "Nombre del planeta = Earth\n",
      "Gravedad en Moon= 1.6199999999999999 m/s² \n",
      "\n"
     ]
    }
   ],
   "source": [
    "template = f\"\"\"{titulo.title()} \n",
    "{datos} \n",
    "\"\"\"\n",
    "print(template)"
   ]
  },
  {
   "cell_type": "code",
   "execution_count": 65,
   "metadata": {},
   "outputs": [],
   "source": [
    "#Nuevos datos\n",
    "planet = 'Marte '\n",
    "gravity  = 0.00143\n",
    "name = 'Ganímedes'"
   ]
  },
  {
   "cell_type": "code",
   "execution_count": 66,
   "metadata": {},
   "outputs": [
    {
     "name": "stdout",
     "output_type": "stream",
     "text": [
      "Datos Sobre La Gravedad En Moon \n",
      "--------------------------------------------------------------------------------\n",
      "Nombre del planeta = Earth\n",
      "Gravedad en Moon= 1.6199999999999999 m/s² \n",
      "\n"
     ]
    }
   ],
   "source": [
    "#Comprobacion de la platilla\n",
    "print(template)"
   ]
  },
  {
   "cell_type": "code",
   "execution_count": 72,
   "metadata": {},
   "outputs": [
    {
     "name": "stdout",
     "output_type": "stream",
     "text": [
      "Datos sobre la gravedad en Ganímedes\n",
      "--------------------------------------------------------------------------------\n",
      "Nombre del planeta = Marte \n",
      "Gravedad en Ganímedes = 0.00143 m/s² \n"
     ]
    }
   ],
   "source": [
    "#Nuevo template\n",
    "new_template =\"\"\"Datos sobre la gravedad en {name}\\n{style}\\nNombre del planeta = {planet}\\nGravedad en {name} = {gravity} m/s² \"\"\"\n",
    "print(new_template.format(name=name, style = '-'*80,planet=planet, gravity = gravity))\n"
   ]
  },
  {
   "cell_type": "code",
   "execution_count": 73,
   "metadata": {},
   "outputs": [
    {
     "name": "stdout",
     "output_type": "stream",
     "text": [
      "Datos sobre la gravedad en Ganímedes\n",
      "--------------------------------------------------------------------------------\n",
      "Nombre del planeta = Marte \n",
      "Gravedad en Ganímedes = 1.4300000000000002 m/s² \n"
     ]
    }
   ],
   "source": [
    "# Pista: print(nueva_plantilla.format(variables))\n",
    "print(new_template.format(name=name, style = '-'*80,planet=planet, gravity = gravity*1000))"
   ]
  }
 ],
 "metadata": {
  "interpreter": {
   "hash": "31f2aee4e71d21fbe5cf8b01ff0e069b9275f58929596ceb00d14d90e3e16cd6"
  },
  "kernelspec": {
   "display_name": "Python 3.9.7 64-bit",
   "language": "python",
   "name": "python3"
  },
  "language_info": {
   "codemirror_mode": {
    "name": "ipython",
    "version": 3
   },
   "file_extension": ".py",
   "mimetype": "text/x-python",
   "name": "python",
   "nbconvert_exporter": "python",
   "pygments_lexer": "ipython3",
   "version": "3.9.7"
  },
  "orig_nbformat": 4
 },
 "nbformat": 4,
 "nbformat_minor": 2
}
