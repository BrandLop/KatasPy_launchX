{
 "cells": [
  {
   "cell_type": "markdown",
   "metadata": {},
   "source": [
    "### Ejercicio 1: Trabajar con argumentos en funciones"
   ]
  },
  {
   "cell_type": "code",
   "execution_count": 16,
   "metadata": {},
   "outputs": [
    {
     "name": "stdout",
     "output_type": "stream",
     "text": [
      "Niveles de combustible:\n",
      "Tanque 1: 55%\n",
      "Tanque 2: 78%\n",
      "Tanque 3: 62%\n",
      "Promedio total: 65.0%\n"
     ]
    }
   ],
   "source": [
    "# Función para leer 3 tanques de combustible y muestre el promedio\n",
    "def info(tank1, tank2, tank3):\n",
    "    prom = (tank1+tank2+tank3) / 3\n",
    "    return f\"\"\"Niveles de combustible:\\nTanque 1: {tank1}%\\nTanque 2: {tank2}%\\nTanque 3: {tank3}%\\nPromedio total: {prom}%\"\"\"\n",
    "# Llamamos a la función que genera el reporte print(funcion(tanque1, tanque2, tanque3))\n",
    "print(info(55,78,62))"
   ]
  },
  {
   "cell_type": "code",
   "execution_count": 12,
   "metadata": {},
   "outputs": [],
   "source": [
    "# Función promedio \n",
    "def prom(tank1,tank2,tank3):\n",
    "    return (tank1+tank2+tank3) / 3"
   ]
  },
  {
   "cell_type": "code",
   "execution_count": 14,
   "metadata": {},
   "outputs": [
    {
     "name": "stdout",
     "output_type": "stream",
     "text": [
      "Niveles de combustible:\n",
      "Tanque 1: 55%\n",
      "Tanque 2: 78%\n",
      "Tanque 3: 62%\n",
      "Promedio total: 65.0%\n"
     ]
    }
   ],
   "source": [
    "# Actualiza la función\n",
    "def info(tank1, tank2, tank3):\n",
    "    average = prom(tank1, tank2, tank3)\n",
    "    return f\"\"\"Niveles de combustible:\\nTanque 1: {tank1}%\\nTanque 2: {tank2}%\\nTanque 3: {tank3}%\\nPromedio total: {average}%\"\"\"\n",
    "#LLamamos a la funcion actualizada\n",
    "print(info(55,78,62))"
   ]
  },
  {
   "cell_type": "markdown",
   "metadata": {},
   "source": [
    "### Ejercicio 2: Trabajo con argumentos de palabra clave"
   ]
  },
  {
   "cell_type": "code",
   "execution_count": 22,
   "metadata": {},
   "outputs": [
    {
     "name": "stdout",
     "output_type": "stream",
     "text": [
      "\n",
      "    Duracion del viaje: 89 minutos\n",
      "    Combustible restante: 4000\n",
      "    Destino: Marte\n",
      "    \n"
     ]
    }
   ],
   "source": [
    "# Función con un informe preciso de la misión. Considera hora de prelanzamiento, tiempo de vuelo, destino, tanque externo y tanque interno\n",
    "def info_complete(prelanzamiento, vuelo_time, destino, extern_tank, internal_tank):\n",
    "    return f\"\"\"\n",
    "    Duracion del viaje: {prelanzamiento + vuelo_time} minutos\n",
    "    Combustible restante: {extern_tank + internal_tank}\n",
    "    Destino: {destino}\n",
    "    \"\"\"\n",
    "print(info_complete(9, 80, 'Marte', 1200, 2800))"
   ]
  },
  {
   "cell_type": "code",
   "execution_count": 23,
   "metadata": {},
   "outputs": [
    {
     "name": "stdout",
     "output_type": "stream",
     "text": [
      "\n",
      "    Duracion del viaje: 89 minutos\n",
      "    Combustible restante: 4000\n",
      "    Destino: Marte\n",
      "    \n"
     ]
    }
   ],
   "source": [
    "# Escribe tu nueva función de reporte considerando lo anterior\n",
    "def info_complete(destino, *minutes, **fuel_reservoirs):\n",
    "    return f\"\"\"\n",
    "    Duracion del viaje: {minutes[0] + minutes[1]} minutos\n",
    "    Combustible restante: {fuel_reservoirs['extern_tank'] + fuel_reservoirs['internal_tank']}\n",
    "    Destino: {destino}\n",
    "    \"\"\"\n",
    "print(info_complete('Marte',9, 80, extern_tank=1200, internal_tank=2800))"
   ]
  },
  {
   "cell_type": "code",
   "execution_count": 25,
   "metadata": {},
   "outputs": [
    {
     "name": "stdout",
     "output_type": "stream",
     "text": [
      "\n",
      "    Duracion del viaje: 89 minutos\n",
      "    Combustible restante: 4000\n",
      "    Combustible restante en tanque externo: 1200\n",
      "    Combustible restante en tanque interno: 2800\n",
      "    Destino: Marte\n",
      "    \n"
     ]
    }
   ],
   "source": [
    "def info_complete(destino, *minutes, **fuel_reservoirs):\n",
    "    return f\"\"\"\n",
    "    Duracion del viaje: {minutes[0] + minutes[1]} minutos\n",
    "    Combustible restante: {fuel_reservoirs['extern_tank'] + fuel_reservoirs['internal_tank']}\n",
    "    Combustible restante en tanque externo: {fuel_reservoirs.get('extern_tank')}\n",
    "    Combustible restante en tanque interno: {fuel_reservoirs.get('internal_tank')}\n",
    "    Destino: {destino}\n",
    "    \"\"\"\n",
    "    \n",
    "print(info_complete('Marte',9, 80, extern_tank=1200, internal_tank=2800))"
   ]
  }
 ],
 "metadata": {
  "interpreter": {
   "hash": "31f2aee4e71d21fbe5cf8b01ff0e069b9275f58929596ceb00d14d90e3e16cd6"
  },
  "kernelspec": {
   "display_name": "Python 3.9.7 64-bit",
   "language": "python",
   "name": "python3"
  },
  "language_info": {
   "codemirror_mode": {
    "name": "ipython",
    "version": 3
   },
   "file_extension": ".py",
   "mimetype": "text/x-python",
   "name": "python",
   "nbconvert_exporter": "python",
   "pygments_lexer": "ipython3",
   "version": "3.9.7"
  },
  "orig_nbformat": 4
 },
 "nbformat": 4,
 "nbformat_minor": 2
}
